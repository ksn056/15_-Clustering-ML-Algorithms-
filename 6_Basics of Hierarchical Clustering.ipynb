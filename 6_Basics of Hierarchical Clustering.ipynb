{
 "cells": [
  {
   "cell_type": "code",
   "execution_count": 1,
   "id": "db1fdcd9",
   "metadata": {},
   "outputs": [
    {
     "name": "stdout",
     "output_type": "stream",
     "text": [
      "[1 1 1 0 0 0]\n"
     ]
    }
   ],
   "source": [
    "from sklearn.cluster import AgglomerativeClustering \n",
    "import numpy as np \n",
    "\n",
    "# randomly chosen dataset \n",
    "X = np.array([[1, 2], [1, 4], [1, 0], \n",
    "\t\t\t[4, 2], [4, 4], [4, 0]]) \n",
    "\n",
    "# here we need to mention the number of clusters \n",
    "# otherwise the result will be a single cluster \n",
    "# containing all the data \n",
    "clustering = AgglomerativeClustering(n_clusters=2).fit(X) \n",
    "\n",
    "# print the class labels \n",
    "print(clustering.labels_) \n"
   ]
  },
  {
   "cell_type": "code",
   "execution_count": 2,
   "id": "3ccba90b",
   "metadata": {},
   "outputs": [
    {
     "data": {
      "image/png": "[encoded data removed]",
      "text/plain": [
       "<Figure size 432x288 with 1 Axes>"
      ]
     },
     "metadata": {
      "needs_background": "light"
     },
     "output_type": "display_data"
    }
   ],
   "source": [
    "import numpy as np \n",
    "from scipy.cluster.hierarchy import dendrogram, linkage \n",
    "import matplotlib.pyplot as plt \n",
    "\n",
    "# randomly chosen dataset \n",
    "X = np.array([[1, 2], [1, 4], [1, 0], \n",
    "\t\t\t[4, 2], [4, 4], [4, 0]]) \n",
    "\n",
    "# Perform hierarchical clustering \n",
    "Z = linkage(X, 'ward') \n",
    "\n",
    "# Plot dendrogram \n",
    "dendrogram(Z) \n",
    "\n",
    "plt.title('Hierarchical Clustering Dendrogram') \n",
    "plt.xlabel('Data point') \n",
    "plt.ylabel('Distance') \n",
    "plt.show()\n"
   ]
  }
 ],
 "metadata": {
  "kernelspec": {
   "display_name": "Python 3 (ipykernel)",
   "language": "python",
   "name": "python3"
  },
  "language_info": {
   "codemirror_mode": {
    "name": "ipython",
    "version": 3
   },
   "file_extension": ".py",
   "mimetype": "text/x-python",
   "name": "python",
   "nbconvert_exporter": "python",
   "pygments_lexer": "ipython3",
   "version": "3.9.7"
  }
 },
 "nbformat": 4,
 "nbformat_minor": 5
}
